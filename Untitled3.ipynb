{
  "nbformat": 4,
  "nbformat_minor": 0,
  "metadata": {
    "colab": {
      "name": "Untitled3.ipynb",
      "provenance": [],
      "collapsed_sections": [],
      "authorship_tag": "ABX9TyOZEVOuzq+VmBzCeFv6ocrp",
      "include_colab_link": true
    },
    "kernelspec": {
      "name": "python3",
      "display_name": "Python 3"
    },
    "language_info": {
      "name": "python"
    }
  },
  "cells": [
    {
      "cell_type": "markdown",
      "metadata": {
        "id": "view-in-github",
        "colab_type": "text"
      },
      "source": [
        "<a href=\"https://colab.research.google.com/github/HasanALI313/Covnets/blob/main/Untitled3.ipynb\" target=\"_parent\"><img src=\"https://colab.research.google.com/assets/colab-badge.svg\" alt=\"Open In Colab\"/></a>"
      ]
    },
    {
      "cell_type": "code",
      "source": [
        "#Q1\n",
        "#import random as rd\n",
        "num = 1\n",
        "pi = 3.14\n",
        "num = rd.randint(1,5)\n",
        "print( \" The random number is : \" , num)\n",
        "\n"
      ],
      "metadata": {
        "id": "sjqxyhAwNc2u",
        "colab": {
          "base_uri": "https://localhost:8080/"
        },
        "outputId": "924ecbef-b0a8-4dbb-8744-7a436875bc57"
      },
      "execution_count": null,
      "outputs": [
        {
          "output_type": "stream",
          "name": "stdout",
          "text": [
            " The random number is :  4\n"
          ]
        }
      ]
    },
    {
      "cell_type": "code",
      "source": [
        "#Q2\n",
        "# -------------------------------------------------------------------\n",
        "# Global variables\n",
        "\n",
        "\n",
        "# -------------------------------------------------------------------\n",
        "# ===>  Change the identifier x to a more meaningful name\n",
        "option = \"\"\n",
        "\n",
        "\n",
        "# -------------------------------------------------------------------\n",
        "# Main program\n",
        "\n",
        "# -------------------------------------------------------------------\n",
        "# ===> Display a suitable question to the user\n",
        "print(\" Would you like me to sing? \")\n",
        "\n",
        "# ===> Accept the user's input (no validation required)\n",
        "option = input( \" Choose 'y' for yes and 'n' for no \")\n",
        "\n",
        "if (option == 'y') :\n",
        "    # ===> Add a comment to explain the effect of the last -1 in this call\n",
        "# The -1 means go back by one in the range.\n",
        "    for num in range(5, -1, -1 ):\n",
        "        print (num, \"green bottles sitting on the wall\")\n",
        "print (\"Goodbye\")\n",
        "\n"
      ],
      "metadata": {
        "colab": {
          "base_uri": "https://localhost:8080/"
        },
        "id": "zWUjfnu66hZV",
        "outputId": "a65d1a86-d7ef-4c41-ae3f-f7f30eef178a"
      },
      "execution_count": null,
      "outputs": [
        {
          "output_type": "stream",
          "name": "stdout",
          "text": [
            " Would you like me to sing? \n",
            " Choose 'y' for yes and 'n' for no y\n",
            "5 green bottles sitting on the wall\n",
            "4 green bottles sitting on the wall\n",
            "3 green bottles sitting on the wall\n",
            "2 green bottles sitting on the wall\n",
            "1 green bottles sitting on the wall\n",
            "0 green bottles sitting on the wall\n",
            "Goodbye\n"
          ]
        }
      ]
    },
    {
      "cell_type": "code",
      "source": [
        "#Q3\n",
        "# -------------------------------------------------------------------\n",
        "# Global variables\n",
        "# -------------------------------------------------------------------\n",
        "num = 0\n",
        "\n",
        "# -------------------------------------------------------------------\n",
        "# Main program\n",
        "# -------------------------------------------------------------------\n",
        "\n",
        "num = int(input(\"Please enter a number (1 ... 20)\"))\n",
        "\n",
        "if 1>num or 20<num:\n",
        "  print (\" Invalid input \")\n",
        "elif (num % 2 == 0): \n",
        "    print (num, \" is even\")\n",
        "elif (num % 2 != 0):\n",
        "    print (num, \" is odd\")\n",
        "\n"
      ],
      "metadata": {
        "colab": {
          "base_uri": "https://localhost:8080/"
        },
        "id": "wqVP79j-80bm",
        "outputId": "8a4d032b-5008-48b0-d9fb-167c0ec561c1"
      },
      "execution_count": null,
      "outputs": [
        {
          "output_type": "stream",
          "name": "stdout",
          "text": [
            "Please enter a number (1 ... 20)21\n",
            " Invalid input \n"
          ]
        }
      ]
    },
    {
      "cell_type": "code",
      "source": [
        "#Q4\n",
        "# -------------------------------------------------------------------\n",
        "# Global variables\n",
        "# -------------------------------------------------------------------\n",
        "year = 0            # Do not move this line\n",
        "strYear = \"\"        # Do not move this line\n",
        "\n",
        "# -------------------------------------------------------------------\n",
        "# Main program\n",
        "# -------------------------------------------------------------------\n",
        "\n",
        "# Put the lines into the correct order to solve the problem.\n",
        "# A user types in a year group.  The program indicates which stage\n",
        "# of education the year group belongs to.  The program loops until\n",
        "# the user enters 0.\n",
        "# Example:\n",
        "# Input                 Output\n",
        "# -----------------------------------------\n",
        "# 0                     Exits program\n",
        "# 1, 2, 3, 4, 5, 6      Primary\n",
        "# 7, 8, 9, 10, 11       Secondary\n",
        "# 12, 13                College\n",
        "\n",
        "strYear = input (\"Enter year group (1 to 13, 0 to exit)\")\n",
        "year = int(strYear)\n",
        "\n",
        "while (year != 0):\n",
        "\n",
        "  \n",
        "  if (year < 1): \n",
        "\n",
        "     print (\"Year too small\")\n",
        "  \n",
        "  elif (year < 7):\n",
        "     print (\"Primary\")\n",
        "  \n",
        "  elif (year < 12):\n",
        "     print (\"Secondary\")\n",
        "    \n",
        "  elif (year > 13):\n",
        "     print (\"College\")\n",
        "      \n",
        "  else:\n",
        "      print (\"Year too big\")\n",
        "\n",
        "strYear = input (\"Enter year group (1 to 13, 0 to exit)\")\n",
        "year = int(strYear)\n"
      ],
      "metadata": {
        "id": "3ato-z2LB5sM"
      },
      "execution_count": null,
      "outputs": []
    },
    {
      "cell_type": "code",
      "source": [
        "#Q5\n",
        "# -------------------------------------------------------------------\n",
        "# Import libraries\n",
        "# -------------------------------------------------------------------\n",
        "# ===> Import a library to use Pi\n",
        "import math\n",
        "\n",
        "# -------------------------------------------------------------------\n",
        "# Global variables\n",
        "# -------------------------------------------------------------------\n",
        "\n",
        "# Hard coded for testing\n",
        "coneHeight = 10.7\n",
        "baseRadius = 1.2\n",
        "coneVolume = 0.0\n",
        "math.pi = pi\n",
        "# -------------------------------------------------------------------\n",
        "# Subprograms\n",
        "# -------------------------------------------------------------------\n",
        "# ===> Add parameters inside the brackets\n",
        "def calcVolume (  pRadius,     pHeight                ):\n",
        "\n",
        "    print (\"The radius is:\", pRadius)\n",
        "    print (\"The height is:\", pHeight)\n",
        "\n",
        "    # ===> Complete the calculation for the volume\n",
        "    theVolume = (pi)*(pRadius**2)*(pHeight/3)\n",
        "    print (\"The volume is:\", theVolume)\n",
        "\n",
        "    # ===> Return the volume to the caller\n",
        "    return (theVolume)\n",
        "\n",
        "# -------------------------------------------------------------------\n",
        "# Main program\n",
        "# -------------------------------------------------------------------\n",
        "\n",
        "# ===> Call the subprogram, passing parameters,\n",
        "#      and catch the returned value in the correct variable\n",
        "coneVolume = calcVolume (baseRadius, coneHeight)\n",
        "\n",
        "# ===> Print the total volume to three decimal places using string.format()\n",
        "# ===> by completing the pattern inside the { }\n",
        "print (\"{:.3f}\".format(coneVolume))\n",
        "\n"
      ],
      "metadata": {
        "id": "LXfY6JQECuQN",
        "colab": {
          "base_uri": "https://localhost:8080/"
        },
        "outputId": "274f5268-16b1-49fc-80b6-ac434dcf9c67"
      },
      "execution_count": null,
      "outputs": [
        {
          "output_type": "stream",
          "name": "stdout",
          "text": [
            "The radius is: 1.2\n",
            "The height is: 10.7\n",
            "The volume is: 16.135219868837176\n",
            "16.135\n"
          ]
        }
      ]
    },
    {
      "cell_type": "code",
      "source": [
        " # formatting \n",
        " first_name = \"hasan\"\n",
        " last_name = \"younis\"\n",
        " print(\"my name is {} , {}\".format(first_name,last_name))"
      ],
      "metadata": {
        "colab": {
          "base_uri": "https://localhost:8080/"
        },
        "id": "folA-vYU9nmy",
        "outputId": "69fb5132-0185-4033-cc08-600f56e22923"
      },
      "execution_count": null,
      "outputs": [
        {
          "output_type": "stream",
          "name": "stdout",
          "text": [
            "my name is hasan , younis\n"
          ]
        }
      ]
    },
    {
      "cell_type": "code",
      "source": [
        "# align substring as l;eft right or middle\n",
        "#padding is always left\n",
        "cases = [5,16,294]\n",
        "for case in cases:\n",
        "  print('Number of cases: {}'.format(case))\n",
        "  #padding left\n",
        "for case in cases:\n",
        "  print('Number of cases: {:<} '.format(case))\n",
        "  #padding right by 5 space\n",
        "for case in cases:\n",
        "  print('Number of cases: {:>5} '.format(case))\n",
        "  #padding center\n",
        "for case in cases:\n",
        "  print('Number of cases: {:^5} '.format(case))\n"
      ],
      "metadata": {
        "colab": {
          "base_uri": "https://localhost:8080/"
        },
        "id": "mNcEtxZQ-ohk",
        "outputId": "34597772-f63a-4123-dbc7-26915a99e0de"
      },
      "execution_count": null,
      "outputs": [
        {
          "output_type": "stream",
          "name": "stdout",
          "text": [
            "Number of cases: 5\n",
            "Number of cases: 16\n",
            "Number of cases: 294\n",
            "Number of cases: 5 \n",
            "Number of cases: 16 \n",
            "Number of cases: 294 \n",
            "Number of cases:     5 \n",
            "Number of cases:    16 \n",
            "Number of cases:   294 \n",
            "Number of cases:   5   \n",
            "Number of cases:  16   \n",
            "Number of cases:  294  \n"
          ]
        }
      ]
    },
    {
      "cell_type": "code",
      "source": [
        "#allign integers and floats\n",
        "  #integer variable\n",
        "length = 26\n",
        "print(' length of length is: {:d}. '.format(length))\n",
        "\n",
        "# align right, padding= 6 , integer\n",
        "  #integer variable\n",
        "length = 26\n",
        "print(' length of length is: {:>6d}. '.format(length))\n",
        "\n",
        "# named variable , align center, padding = 4, integer\n",
        "length = 26\n",
        "print(' length of length is: {:^5d}. '.format(length))"
      ],
      "metadata": {
        "colab": {
          "base_uri": "https://localhost:8080/"
        },
        "id": "clALCxW4_gaa",
        "outputId": "8ae154cb-e763-4e3a-9439-d49e34255020"
      },
      "execution_count": null,
      "outputs": [
        {
          "output_type": "stream",
          "name": "stdout",
          "text": [
            " length of length is: 26. \n",
            " length of length is:     26. \n",
            " length of length is:  26  . \n"
          ]
        }
      ]
    },
    {
      "cell_type": "code",
      "source": [
        "#integer with colummas \n",
        "print('Distance to moon is {:,d} miles.'.format(234000))"
      ],
      "metadata": {
        "colab": {
          "base_uri": "https://localhost:8080/"
        },
        "id": "Mq-GpJijBezs",
        "outputId": "a2602abd-cc16-4ad2-9da6-be8a78ff0493"
      },
      "execution_count": null,
      "outputs": [
        {
          "output_type": "stream",
          "name": "stdout",
          "text": [
            "Distance to moon is 234,000 miles.\n"
          ]
        }
      ]
    },
    {
      "cell_type": "code",
      "source": [
        "radius = 4.78\n",
        "# the 6 df are the default format in python so adds 4 zero's.\n",
        "print('Radius is {:f} inches.'.format(radius))\n",
        "\n",
        "#round to 1 decimal place, float\n",
        "print('Radius is {:.1f} inches.'.format(radius))\n",
        "\n",
        "#padding=6 (pad with leading 0's), round to 1 decimal\n",
        "print('Radius is {:06.1f} inches.'.format(radius))\n",
        "\n",
        "#padding=5 decimal palces\n",
        "print('Radius is {:.5f} inches.'.format(radius))"
      ],
      "metadata": {
        "colab": {
          "base_uri": "https://localhost:8080/"
        },
        "id": "_mYW2Oe-CeKF",
        "outputId": "ece12640-821c-47b1-a550-2286d17160dd"
      },
      "execution_count": null,
      "outputs": [
        {
          "output_type": "stream",
          "name": "stdout",
          "text": [
            "Radius is 4.780000 inches.\n",
            "Radius is 4.8 inches.\n",
            "Radius is 0004.8 inches.\n",
            "Radius is 4.78000 inches.\n"
          ]
        }
      ]
    },
    {
      "cell_type": "code",
      "source": [
        "# positive & negative signs\n",
        "a, b, c = 15, -9, 33\n",
        "print('A is {:+d}.  B is {:+d}.  C is {:-d}.'.format(a, b, c))\n",
        "\n",
        "# {+3d} shows positive or negative sign, padding=3. \n",
        "# {: d} prints neg or a leading space if positive.\n",
        "print('A is {:+3d}.  B is {:+4d}.  B is {: d}.'.format(a, b, b))"
      ],
      "metadata": {
        "colab": {
          "base_uri": "https://localhost:8080/"
        },
        "id": "P4ED0lVwIkhT",
        "outputId": "7cea0cb9-c307-47fd-ca34-e3c3ee9f4386"
      },
      "execution_count": null,
      "outputs": [
        {
          "output_type": "stream",
          "name": "stdout",
          "text": [
            "A is +15.  B is -9.  C is 33.\n",
            "A is +15.  B is   -9.  B is -9.\n"
          ]
        }
      ]
    },
    {
      "cell_type": "code",
      "source": [
        "print(\"{name} is a {job}.\".format(name='Mekael', job='Carpenter'))"
      ],
      "metadata": {
        "colab": {
          "base_uri": "https://localhost:8080/"
        },
        "id": "gLLdLyJrKIAe",
        "outputId": "4bebe0d8-6a38-407e-92ab-aa9ef691ee51"
      },
      "execution_count": null,
      "outputs": [
        {
          "output_type": "stream",
          "name": "stdout",
          "text": [
            "Mekael is a Carpenter.\n"
          ]
        }
      ]
    },
    {
      "cell_type": "code",
      "source": [
        "name = 'Mekael'\n",
        "job = 'Carpenter'\n",
        "# THIS DOES NOT WORK!\n",
        "print(\"{} is a {}.\".format(name, job))"
      ],
      "metadata": {
        "colab": {
          "base_uri": "https://localhost:8080/"
        },
        "id": "2FFaqqefKMwQ",
        "outputId": "b149ecdf-7587-4535-93ac-856630344e7b"
      },
      "execution_count": null,
      "outputs": [
        {
          "output_type": "stream",
          "name": "stdout",
          "text": [
            "Mekael is a Carpenter.\n"
          ]
        }
      ]
    },
    {
      "cell_type": "code",
      "source": [
        "# This works great\n",
        "print(\"{n} is a {j}.\".format(n=name, j=job))"
      ],
      "metadata": {
        "colab": {
          "base_uri": "https://localhost:8080/"
        },
        "id": "Z1wEvEv-KO9i",
        "outputId": "93b40d95-4c09-4aee-8300-19f5fe8c4b40"
      },
      "execution_count": null,
      "outputs": [
        {
          "output_type": "stream",
          "name": "stdout",
          "text": [
            "Mekael is a Carpenter.\n"
          ]
        }
      ]
    },
    {
      "cell_type": "code",
      "source": [
        "# Or use a dictionary, and ** unpacks the dictionary.\n",
        "jobs = {'name':'Mekael', 'job':'Carpenter'}\n",
        "print(\"{name} is a {job}.\".format(**jobs))"
      ],
      "metadata": {
        "colab": {
          "base_uri": "https://localhost:8080/"
        },
        "id": "9ZxGipi5KSW8",
        "outputId": "453777e9-7431-40a7-86c9-65f56d65262b"
      },
      "execution_count": null,
      "outputs": [
        {
          "output_type": "stream",
          "name": "stdout",
          "text": [
            "Mekael is a Carpenter.\n"
          ]
        }
      ]
    },
    {
      "cell_type": "code",
      "source": [
        "# passing in a list is clean and easy\n",
        "scores = [78, 96, 83, 86]\n",
        "print('Score 2 is {s[1]}'.format(s = scores))"
      ],
      "metadata": {
        "colab": {
          "base_uri": "https://localhost:8080/"
        },
        "id": "apdRLgeNKS8L",
        "outputId": "309975c7-375c-4321-a5d2-ad5b92cf56b0"
      },
      "execution_count": null,
      "outputs": [
        {
          "output_type": "stream",
          "name": "stdout",
          "text": [
            "Score 2 is 96\n"
          ]
        }
      ]
    },
    {
      "cell_type": "code",
      "source": [
        "print('My big number is {:e}'.format(874.577))\n",
        "print('A bigger number is {:E}'.format(602214090000000000000000))"
      ],
      "metadata": {
        "colab": {
          "base_uri": "https://localhost:8080/"
        },
        "id": "OxcyFXKzKUrk",
        "outputId": "024e774a-20ba-458e-c746-9774688f290e"
      },
      "execution_count": null,
      "outputs": [
        {
          "output_type": "stream",
          "name": "stdout",
          "text": [
            "My big number is 8.745770e+02\n",
            "A bigger number is 6.022141E+23\n"
          ]
        }
      ]
    },
    {
      "cell_type": "code",
      "source": [
        "#  binary formatting\n",
        "print('The binary equivalent of 79 is {:b}'.format(79))\n",
        "#  hexidecimal fomtatting\n",
        "print('The Hexadecimal equivalent of 183 is {:X}'.format(183))"
      ],
      "metadata": {
        "colab": {
          "base_uri": "https://localhost:8080/"
        },
        "id": "Td-CWbhNKWr9",
        "outputId": "30f5ec20-782b-4110-f5f1-d7fd45956df1"
      },
      "execution_count": null,
      "outputs": [
        {
          "output_type": "stream",
          "name": "stdout",
          "text": [
            "The binary equivalent of 79 is 1001111\n",
            "The Hexadecimal equivalent of 183 is B7\n"
          ]
        }
      ]
    },
    {
      "cell_type": "code",
      "source": [
        "# -------------------------------------------------------------------\n",
        "# Global variables\n",
        "# -------------------------------------------------------------------\n",
        "\n",
        "# User Number, Last Name, First Name, Login Name, Passcode\n",
        "userList = [[110,\"Cashin\",\"Bonnie\",\"Cae110\",7005],\n",
        "            [101,\"Cheruit\",\"Madeleine\",\"Che101\",1507],\n",
        "            [103,\"Chanel\",\"Coco\",\"Cho103\",7333],\n",
        "            [107,\"Gres\",\"Madame\",\"Gre107\",3054],\n",
        "            [114,\"Hamnett\",\"Katharine\",\"Hae114\",4807],\n",
        "            [118,\"Herrera\",\"Carolina\",\"Hea118\",5567],\n",
        "            [111,\"Hulanicki\",\"Barbara\",\"Hua111\",5125],\n",
        "            [116,\"Johnson\",\"Betsey\",\"Joy116\",8869],\n",
        "            [104,\"Lanvin\",\"Jeanne\",\"Lae104\",8580],\n",
        "            [109,\"McCardell\",\"Claire\",\"Mce109\",5991],\n",
        "            [102,\"Paquin\",\"Jeanne\",\"Pae102\",6495],\n",
        "            [112,\"Quant\",\"Mary\",\"Quy112\",9028],\n",
        "            [113,\"Rykiel\",\"Sonia\",\"Rya113\",1177],\n",
        "            [105,\"Schiaparelli\",\"Elsa\",\"Sca105\",2980],\n",
        "            [108,\"Schlee\",\"Valentina\",\"Sca108\",6801],\n",
        "            [106,\"Vionnet\",\"Madeleine\",\"Vie106\",9042],\n",
        "            [117,\"Von Furstenberg\",\"Diane\",\"Voe117\",2553],\n",
        "            [119,\"Wang\",\"Vera\",\"Waa119\",2004],\n",
        "            [115,\"Westwood\",\"Vivienne\",\"Wee115\",7806]]\n",
        "\n",
        "\n",
        "\n"
      ],
      "metadata": {
        "id": "bdyQ1q71Mh-O"
      },
      "execution_count": null,
      "outputs": []
    }
  ]
}